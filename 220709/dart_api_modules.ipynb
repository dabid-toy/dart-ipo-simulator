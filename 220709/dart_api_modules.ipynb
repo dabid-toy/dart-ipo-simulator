{
 "cells": [
  {
   "cell_type": "code",
   "execution_count": 1,
   "metadata": {},
   "outputs": [],
   "source": [
    "import requests\n",
    "from io import BytesIO\n",
    "import zipfile\n",
    "\n",
    "import xmltodict\n",
    "import json\n",
    "DART_API_KEY = \"f62b5aa9f2c561813b07d6e54b228f1eb5a7abe0\"\n",
    "\n",
    "## get all codes\n",
    "# 참고: corp_code는 Dart에서 종목별로 부여한 고유번호로, 아래처럼 호출하면 모두 볼 수 있음(ref: http://blog.quantylab.com/2020-10-09-dart.html)\n",
    "\n",
    "def get_corp_codes():\n",
    "    api_url = 'https://opendart.fss.or.kr/api/corpCode.xml'\n",
    "    res = requests.get(api_url, params={'crtfc_key': DART_API_KEY})\n",
    "    z = zipfile.ZipFile(BytesIO(res.content))\n",
    "    data_xml = z.read('CORPCODE.xml').decode('utf-8')\n",
    "    data_odict = xmltodict.parse(data_xml)\n",
    "    data_dict = json.loads(json.dumps(data_odict))\n",
    "    data = data_dict.get('result', {}).get('list')\n",
    "    return data\n",
    "\n",
    "corp_codes = get_corp_codes()\n",
    "\n"
   ]
  },
  {
   "cell_type": "code",
   "execution_count": 8,
   "metadata": {},
   "outputs": [
    {
     "name": "stdout",
     "output_type": "stream",
     "text": [
      "{\"status\":\"000\",\"message\":\"정상\",\"group\":[{\"title\":\"일반사항\",\"list\":[{\"rcept_no\":\"20211224000319\",\"corp_cls\":\"Y\",\"corp_code\":\"01515323\",\"corp_name\":\"LG에너지솔루션\",\"sbd\":\"2022년 01월 18일 ~ 2022년 01월 19일\",\"pymd\":\"2022년 01월 21일\",\"sband\":\"2022년 01월 18일\",\"asand\":\"2022년 01월 21일\",\"asstd\":\"-\",\"exstk\":\"-\",\"exprc\":\"-\",\"expd\":\"-\",\"rpt_rcpn\":\"20211207000392\"}]},{\"title\":\"증권의종류\",\"list\":[{\"rcept_no\":\"20211224000319\",\"corp_cls\":\"Y\",\"corp_code\":\"01515323\",\"corp_name\":\"LG에너지솔루션\",\"stksen\":\"기명식보통주\",\"stkcnt\":\"42,500,000\",\"fv\":\"500\",\"slprc\":\"257,000\",\"slta\":\"10,922,500,000,000\",\"slmthn\":\"일반공모\"}]},{\"title\":\"인수인정보\",\"list\":[{\"rcept_no\":\"20211224000319\",\"corp_cls\":\"Y\",\"corp_code\":\"01515323\",\"corp_name\":\"LG에너지솔루션\",\"stksen\":\"기명식보통주\",\"actsen\":\"대표\",\"actnmn\":\"케이비증권\",\"udtcnt\":\"9,350,000\",\"udtamt\":\"2,402,950,000,000\",\"udtprc\":\"16,820,650,000\",\"udtmth\":\"총액인수\"},{\"rcept_no\":\"20211224000319\",\"corp_cls\":\"Y\",\"corp_code\":\"01515323\",\"corp_name\":\"LG에너지솔루션\",\"stksen\":\"기명식보통주\",\"actsen\":\"인수\",\"actnmn\":\"하나금융투자\",\"udtcnt\":\"425,000\",\"udtamt\":\"109,225,000,000\",\"udtprc\":\"764,575,000\",\"udtmth\":\"총액인수\"},{\"rcept_no\":\"20211224000319\",\"corp_cls\":\"Y\",\"corp_code\":\"01515323\",\"corp_name\":\"LG에너지솔루션\",\"stksen\":\"기명식보통주\",\"actsen\":\"인수\",\"actnmn\":\"하이투자증권\",\"udtcnt\":\"425,000\",\"udtamt\":\"109,225,000,000\",\"udtprc\":\"764,575,000\",\"udtmth\":\"총액인수\"},{\"rcept_no\":\"20211224000319\",\"corp_cls\":\"Y\",\"corp_code\":\"01515323\",\"corp_name\":\"LG에너지솔루션\",\"stksen\":\"기명식보통주\",\"actsen\":\"대표\",\"actnmn\":\"모간스탠리인터내셔날증권회사 서울지점\",\"udtcnt\":\"8,075,000\",\"udtamt\":\"2,075,275,000,000\",\"udtprc\":\"14,526,925,000\",\"udtmth\":\"총액인수\"},{\"rcept_no\":\"20211224000319\",\"corp_cls\":\"Y\",\"corp_code\":\"01515323\",\"corp_name\":\"LG에너지솔루션\",\"stksen\":\"기명식보통주\",\"actsen\":\"공동\",\"actnmn\":\"대신증권\",\"udtcnt\":\"4,675,000\",\"udtamt\":\"1,201,475,000,000\",\"udtprc\":\"8,410,325,000\",\"udtmth\":\"총액인수\"},{\"rcept_no\":\"20211224000319\",\"corp_cls\":\"Y\",\"corp_code\":\"01515323\",\"corp_name\":\"LG에너지솔루션\",\"stksen\":\"기명식보통주\",\"actsen\":\"공동\",\"actnmn\":\"신한금융투자\",\"udtcnt\":\"4,675,000\",\"udtamt\":\"1,201,475,000,000\",\"udtprc\":\"8,410,325,000\",\"udtmth\":\"총액인수\"},{\"rcept_no\":\"20211224000319\",\"corp_cls\":\"Y\",\"corp_code\":\"01515323\",\"corp_name\":\"LG에너지솔루션\",\"stksen\":\"기명식보통주\",\"actsen\":\"공동\",\"actnmn\":\"골드만삭스증권회사 서울지점\",\"udtcnt\":\"4,675,000\",\"udtamt\":\"1,201,475,000,000\",\"udtprc\":\"8,410,325,000\",\"udtmth\":\"총액인수\"},{\"rcept_no\":\"20211224000319\",\"corp_cls\":\"Y\",\"corp_code\":\"01515323\",\"corp_name\":\"LG에너지솔루션\",\"stksen\":\"기명식보통주\",\"actsen\":\"공동\",\"actnmn\":\"메릴린치증권 서울지점\",\"udtcnt\":\"4,675,000\",\"udtamt\":\"1,201,475,000,000\",\"udtprc\":\"8,410,325,000\",\"udtmth\":\"총액인수\"},{\"rcept_no\":\"20211224000319\",\"corp_cls\":\"Y\",\"corp_code\":\"01515323\",\"corp_name\":\"LG에너지솔루션\",\"stksen\":\"기명식보통주\",\"actsen\":\"공동\",\"actnmn\":\"씨티그룹글로벌마켓증권\",\"udtcnt\":\"4,675,000\",\"udtamt\":\"1,201,475,000,000\",\"udtprc\":\"8,410,325,000\",\"udtmth\":\"총액인수\"},{\"rcept_no\":\"20211224000319\",\"corp_cls\":\"Y\",\"corp_code\":\"01515323\",\"corp_name\":\"LG에너지솔루션\",\"stksen\":\"기명식보통주\",\"actsen\":\"인수\",\"actnmn\":\"미래에셋증권\",\"udtcnt\":\"425,000\",\"udtamt\":\"109,225,000,000\",\"udtprc\":\"764,575,000\",\"udtmth\":\"총액인수\"},{\"rcept_no\":\"20211224000319\",\"corp_cls\":\"Y\",\"corp_code\":\"01515323\",\"corp_name\":\"LG에너지솔루션\",\"stksen\":\"기명식보통주\",\"actsen\":\"인수\",\"actnmn\":\"신영증권\",\"udtcnt\":\"425,000\",\"udtamt\":\"109,225,000,000\",\"udtprc\":\"764,575,000\",\"udtmth\":\"총액인수\"}]},{\"title\":\"자금의사용목적\",\"list\":[{\"rcept_no\":\"20211224000319\",\"corp_cls\":\"Y\",\"corp_code\":\"01515323\",\"corp_name\":\"LG에너지솔루션\",\"se\":\"시설자금\",\"amt\":\"645,054,000,000\"},{\"rcept_no\":\"20211224000319\",\"corp_cls\":\"Y\",\"corp_code\":\"01515323\",\"corp_name\":\"LG에너지솔루션\",\"se\":\"운영자금\",\"amt\":\"1,604,273,000,000\"},{\"rcept_no\":\"20211224000319\",\"corp_cls\":\"Y\",\"corp_code\":\"01515323\",\"corp_name\":\"LG에너지솔루션\",\"se\":\"타법인증권취득자금\",\"amt\":\"6,423,582,560,000\"},{\"rcept_no\":\"20211224000319\",\"corp_cls\":\"Y\",\"corp_code\":\"01515323\",\"corp_name\":\"LG에너지솔루션\",\"se\":\"발행제비용\",\"amt\":\"65,090,440,000\"}]},{\"title\":\"매출인에관한사항\",\"list\":[{\"rcept_no\":\"20211224000319\",\"corp_cls\":\"Y\",\"corp_code\":\"01515323\",\"corp_name\":\"LG에너지솔루션\",\"hdr\":\"주식회사 LG화학\",\"rl_cmp\":\"최대주주\",\"bfsl_hdstk\":\"200,000,000\",\"slstk\":\"8,500,000\",\"atsl_hdstk\":\"191,500,000\"}]},{\"title\":\"일반청약자환매청구권\",\"list\":[{\"rcept_no\":\"20211224000319\",\"corp_cls\":\"Y\",\"corp_code\":\"01515323\",\"corp_name\":\"LG에너지솔루션\",\"exprc\":\"-\",\"expd\":\"-\",\"grtrs\":\"-\",\"exavivr\":\"-\",\"grtcnt\":\"-\"}]}]}\n"
     ]
    }
   ],
   "source": [
    "## 만약 같은 이름의 회사 2개가 있을 경우 첫번째 값을 호출 (예를 들어 삼성물산은 2개가 있음)\n",
    "def get_corp_code(corp_name):\n",
    "    tmp = []\n",
    "    for item in corp_codes:\n",
    "        if item['corp_name'] == corp_name:\n",
    "            tmp.append(item)\n",
    "            # corp_code = item['corp_name']\n",
    "            # print(item)\n",
    "    return tmp[0]['corp_code']\n",
    "\n",
    "\n",
    "## 증권신고서 주요사항 가져오기\n",
    "def get_sec_summary(corp_name):\n",
    "    url = 'https://opendart.fss.or.kr/api/estkRs.json'\n",
    "    params = {\n",
    "        'crtfc_key': DART_API_KEY,\n",
    "        'corp_code': get_corp_code(corp_name),\n",
    "        'bgn_de': '20160101',\n",
    "        'end_de': '20221231'\n",
    "    }\n",
    "\n",
    "    result = requests.get(url, params=params).json()\n",
    "    return result"
   ]
  }
 ],
 "metadata": {
  "kernelspec": {
   "display_name": "Python 3.8.0 64-bit",
   "language": "python",
   "name": "python3"
  },
  "language_info": {
   "codemirror_mode": {
    "name": "ipython",
    "version": 3
   },
   "file_extension": ".py",
   "mimetype": "text/x-python",
   "name": "python",
   "nbconvert_exporter": "python",
   "pygments_lexer": "ipython3",
   "version": "3.8.0"
  },
  "orig_nbformat": 4,
  "vscode": {
   "interpreter": {
    "hash": "cf6fc51d01c97dab41f8cd381760765597307d613522af9e83f9a683491de36b"
   }
  }
 },
 "nbformat": 4,
 "nbformat_minor": 2
}
